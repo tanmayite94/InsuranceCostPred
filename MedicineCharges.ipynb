{
  "nbformat": 4,
  "nbformat_minor": 0,
  "metadata": {
    "colab": {
      "name": "ML-Insurance.ipynb",
      "provenance": [],
      "collapsed_sections": [],
      "toc_visible": true,
      "authorship_tag": "ABX9TyPt3U1Ssn7a186WiKPsmPNe",
      "include_colab_link": true
    },
    "kernelspec": {
      "name": "python3",
      "display_name": "Python 3"
    }
  },
  "cells": [
    {
      "cell_type": "markdown",
      "metadata": {
        "id": "view-in-github",
        "colab_type": "text"
      },
      "source": [
        "<a href=\"https://colab.research.google.com/github/tanmayite94/MedicalCharges/blob/master/MedicineCharges.ipynb\" target=\"_parent\"><img src=\"https://colab.research.google.com/assets/colab-badge.svg\" alt=\"Open In Colab\"/></a>"
      ]
    },
    {
      "cell_type": "markdown",
      "metadata": {
        "id": "2zjikzUrdUZY",
        "colab_type": "text"
      },
      "source": [
        "# setup"
      ]
    },
    {
      "cell_type": "code",
      "metadata": {
        "id": "0BfYoSDWx13d",
        "colab_type": "code",
        "outputId": "62e01d7c-def8-45f1-992a-036591bec2a1",
        "colab": {
          "base_uri": "https://localhost:8080/",
          "height": 34
        }
      },
      "source": [
        "%%html\n",
        "<link rel=\"stylesheet\" href=\"/nbextensions/google.colab/tabbar.css\">\n",
        "<div class='goog-tab'>\n",
        "  Some content\n",
        "</div>"
      ],
      "execution_count": 178,
      "outputs": [
        {
          "output_type": "display_data",
          "data": {
            "text/html": [
              "<link rel=\"stylesheet\" href=\"/nbextensions/google.colab/tabbar.css\">\n",
              "<div class='goog-tab'>\n",
              "  Some content\n",
              "</div>"
            ],
            "text/plain": [
              "<IPython.core.display.HTML object>"
            ]
          },
          "metadata": {
            "tags": []
          }
        }
      ]
    },
    {
      "cell_type": "code",
      "metadata": {
        "id": "DuNmuHvxx10g",
        "colab_type": "code",
        "outputId": "c76b25c4-08cc-4e0f-e766-bf78311b9fb2",
        "colab": {
          "base_uri": "https://localhost:8080/",
          "height": 17
        }
      },
      "source": [
        "import portpicker\n",
        "import threading\n",
        "import socket\n",
        "import IPython\n",
        "\n",
        "from six.moves import socketserver\n",
        "from six.moves import SimpleHTTPServer\n",
        "\n",
        "class V6Server(socketserver.TCPServer):\n",
        "  address_family = socket.AF_INET6\n",
        "\n",
        "class Handler(SimpleHTTPServer.SimpleHTTPRequestHandler):\n",
        "  def do_GET(self):\n",
        "    self.send_response(200)\n",
        "    # If the response should not be cached in the notebook for\n",
        "    # offline access:\n",
        "    # self.send_header('x-colab-notebook-cache-control', 'no-cache')\n",
        "    self.end_headers()\n",
        "    self.wfile.write(b'''\n",
        "      document.querySelector('#output-area').appendChild(document.createTextNode('Script result!'));\n",
        "    ''')\n",
        "\n",
        "port = portpicker.pick_unused_port()\n",
        "\n",
        "def server_entry():\n",
        "    httpd = V6Server(('::', port), Handler)\n",
        "    # Handle a single request then exit the thread.\n",
        "    httpd.serve_forever()\n",
        "\n",
        "thread = threading.Thread(target=server_entry)\n",
        "thread.start()\n",
        "\n",
        "# Display some HTML referencing the resource.\n",
        "display(IPython.display.HTML('<script src=\"https://localhost:{port}/\"></script>'.format(port=port)))"
      ],
      "execution_count": 179,
      "outputs": [
        {
          "output_type": "display_data",
          "data": {
            "text/html": [
              "<script src=\"https://localhost:18562/\"></script>"
            ],
            "text/plain": [
              "<IPython.core.display.HTML object>"
            ]
          },
          "metadata": {
            "tags": []
          }
        }
      ]
    },
    {
      "cell_type": "code",
      "metadata": {
        "id": "TUJKX2uyhwN2",
        "colab_type": "code",
        "colab": {}
      },
      "source": [
        "# Common imports\n",
        "import numpy as np\n",
        "import os\n",
        "\n",
        "# To plot pretty figures\n",
        "%matplotlib inline\n",
        "import matplotlib as mpl\n",
        "import matplotlib.pyplot as plt\n",
        "import seaborn as sns\n",
        "mpl.rc('axes', labelsize=14)\n",
        "mpl.rc('xtick', labelsize=12)\n",
        "mpl.rc('ytick', labelsize=12)\n",
        "plt.style.use('ggplot')\n",
        "\n",
        "# Ignore useless warnings (see SciPy issue #5998)\n",
        "import warnings\n",
        "warnings.filterwarnings(action=\"ignore\", message=\"^internal gelsd\")"
      ],
      "execution_count": 0,
      "outputs": []
    },
    {
      "cell_type": "code",
      "metadata": {
        "id": "SlVqnldqVoDD",
        "colab_type": "code",
        "colab": {}
      },
      "source": [
        "# get the data\n",
        "import os\n",
        "import urllib\n",
        "\n",
        "download_path = \"https://raw.githubusercontent.com/tanmayite94/InsuranceCostPred/master/insurance.csv\"\n",
        "\n",
        "if not os.path.exists('/content/datasets'):\n",
        "    os.makedirs('/content/datasets')\n",
        "    file_path = '/content/datasets/insurance.csv'\n",
        "    urllib.request.urlretrieve(download_path, file_path)"
      ],
      "execution_count": 0,
      "outputs": []
    },
    {
      "cell_type": "code",
      "metadata": {
        "colab_type": "code",
        "outputId": "4d62d269-dfeb-4cc5-9a9f-3821f4483fcb",
        "id": "X31EwBnwhM0k",
        "colab": {
          "base_uri": "https://localhost:8080/",
          "height": 204
        }
      },
      "source": [
        "import pandas as pd\n",
        "\n",
        "insurance = pd.read_csv(file_path)\n",
        "insurance.head()"
      ],
      "execution_count": 182,
      "outputs": [
        {
          "output_type": "execute_result",
          "data": {
            "text/html": [
              "<div>\n",
              "<style scoped>\n",
              "    .dataframe tbody tr th:only-of-type {\n",
              "        vertical-align: middle;\n",
              "    }\n",
              "\n",
              "    .dataframe tbody tr th {\n",
              "        vertical-align: top;\n",
              "    }\n",
              "\n",
              "    .dataframe thead th {\n",
              "        text-align: right;\n",
              "    }\n",
              "</style>\n",
              "<table border=\"1\" class=\"dataframe\">\n",
              "  <thead>\n",
              "    <tr style=\"text-align: right;\">\n",
              "      <th></th>\n",
              "      <th>age</th>\n",
              "      <th>sex</th>\n",
              "      <th>bmi</th>\n",
              "      <th>children</th>\n",
              "      <th>smoker</th>\n",
              "      <th>region</th>\n",
              "      <th>charges</th>\n",
              "    </tr>\n",
              "  </thead>\n",
              "  <tbody>\n",
              "    <tr>\n",
              "      <th>0</th>\n",
              "      <td>19</td>\n",
              "      <td>female</td>\n",
              "      <td>27.900</td>\n",
              "      <td>0</td>\n",
              "      <td>yes</td>\n",
              "      <td>southwest</td>\n",
              "      <td>16884.92400</td>\n",
              "    </tr>\n",
              "    <tr>\n",
              "      <th>1</th>\n",
              "      <td>18</td>\n",
              "      <td>male</td>\n",
              "      <td>33.770</td>\n",
              "      <td>1</td>\n",
              "      <td>no</td>\n",
              "      <td>southeast</td>\n",
              "      <td>1725.55230</td>\n",
              "    </tr>\n",
              "    <tr>\n",
              "      <th>2</th>\n",
              "      <td>28</td>\n",
              "      <td>male</td>\n",
              "      <td>33.000</td>\n",
              "      <td>3</td>\n",
              "      <td>no</td>\n",
              "      <td>southeast</td>\n",
              "      <td>4449.46200</td>\n",
              "    </tr>\n",
              "    <tr>\n",
              "      <th>3</th>\n",
              "      <td>33</td>\n",
              "      <td>male</td>\n",
              "      <td>22.705</td>\n",
              "      <td>0</td>\n",
              "      <td>no</td>\n",
              "      <td>northwest</td>\n",
              "      <td>21984.47061</td>\n",
              "    </tr>\n",
              "    <tr>\n",
              "      <th>4</th>\n",
              "      <td>32</td>\n",
              "      <td>male</td>\n",
              "      <td>28.880</td>\n",
              "      <td>0</td>\n",
              "      <td>no</td>\n",
              "      <td>northwest</td>\n",
              "      <td>3866.85520</td>\n",
              "    </tr>\n",
              "  </tbody>\n",
              "</table>\n",
              "</div>"
            ],
            "text/plain": [
              "   age     sex     bmi  children smoker     region      charges\n",
              "0   19  female  27.900         0    yes  southwest  16884.92400\n",
              "1   18    male  33.770         1     no  southeast   1725.55230\n",
              "2   28    male  33.000         3     no  southeast   4449.46200\n",
              "3   33    male  22.705         0     no  northwest  21984.47061\n",
              "4   32    male  28.880         0     no  northwest   3866.85520"
            ]
          },
          "metadata": {
            "tags": []
          },
          "execution_count": 182
        }
      ]
    },
    {
      "cell_type": "code",
      "metadata": {
        "id": "kWz2S_KyhNsj",
        "colab_type": "code",
        "outputId": "1a1fb047-a2df-4247-9983-ecaaade35541",
        "colab": {
          "base_uri": "https://localhost:8080/",
          "height": 221
        }
      },
      "source": [
        "insurance.info()"
      ],
      "execution_count": 183,
      "outputs": [
        {
          "output_type": "stream",
          "text": [
            "<class 'pandas.core.frame.DataFrame'>\n",
            "RangeIndex: 1338 entries, 0 to 1337\n",
            "Data columns (total 7 columns):\n",
            "age         1338 non-null int64\n",
            "sex         1338 non-null object\n",
            "bmi         1338 non-null float64\n",
            "children    1338 non-null int64\n",
            "smoker      1338 non-null object\n",
            "region      1338 non-null object\n",
            "charges     1338 non-null float64\n",
            "dtypes: float64(2), int64(2), object(3)\n",
            "memory usage: 73.3+ KB\n"
          ],
          "name": "stdout"
        }
      ]
    },
    {
      "cell_type": "code",
      "metadata": {
        "id": "vuQN9MhR4v9H",
        "colab_type": "code",
        "outputId": "8e847b82-508b-4410-fc7a-8a3c0c0b4312",
        "colab": {
          "base_uri": "https://localhost:8080/",
          "height": 632
        }
      },
      "source": [
        "%matplotlib inline\n",
        "import matplotlib.pyplot as plt\n",
        "insurance.hist(bins=20, figsize=(20, 10))\n",
        "plt.show()"
      ],
      "execution_count": 184,
      "outputs": [
        {
          "output_type": "display_data",
          "data": {
            "image/png": "[encoded data removed]",
            "text/plain": [
              "<Figure size 1440x720 with 4 Axes>"
            ]
          },
          "metadata": {
            "tags": []
          }
        }
      ]
    },
    {
      "cell_type": "code",
      "metadata": {
        "id": "sRr8DuPa9JAq",
        "colab_type": "code",
        "colab": {}
      },
      "source": [
        "# split the train set and test set\n",
        "from sklearn.model_selection import train_test_split\n",
        "\n",
        "train_set, test_set = train_test_split(insurance, test_size=0.2, random_state=42)"
      ],
      "execution_count": 0,
      "outputs": []
    },
    {
      "cell_type": "markdown",
      "metadata": {
        "id": "71SA6NRgzKA9",
        "colab_type": "text"
      },
      "source": [
        "# Visualize Data\n"
      ]
    },
    {
      "cell_type": "code",
      "metadata": {
        "id": "ex0Oj2-kHZFA",
        "colab_type": "code",
        "outputId": "dc9f656d-99a2-4013-8c85-339dc18cf887",
        "colab": {
          "base_uri": "https://localhost:8080/",
          "height": 448
        }
      },
      "source": [
        "# Distribution of charges\n",
        "train_set['charges'].hist(figsize=(12, 7))"
      ],
      "execution_count": 186,
      "outputs": [
        {
          "output_type": "execute_result",
          "data": {
            "text/plain": [
              "<matplotlib.axes._subplots.AxesSubplot at 0x7f4e24e65438>"
            ]
          },
          "metadata": {
            "tags": []
          },
          "execution_count": 186
        },
        {
          "output_type": "display_data",
          "data": {
            "image/png": "[encoded data removed]",
            "text/plain": [
              "<Figure size 864x504 with 1 Axes>"
            ]
          },
          "metadata": {
            "tags": []
          }
        }
      ]
    },
    {
      "cell_type": "markdown",
      "metadata": {
        "id": "jbNU4En_LNV7",
        "colab_type": "text"
      },
      "source": [
        "more than half people incure charges less than 20k. let's check the distribution for smokers and non-smokers. First let's see how many smokes."
      ]
    },
    {
      "cell_type": "code",
      "metadata": {
        "id": "IeF6MCziLqLT",
        "colab_type": "code",
        "outputId": "5bef8bb1-e600-4fc9-b553-29c0109c0fd7",
        "colab": {
          "base_uri": "https://localhost:8080/",
          "height": 386
        }
      },
      "source": [
        "sns.catplot(x=\"smoker\", kind=\"count\",hue = 'sex', palette=\"pink\", data=train_set)"
      ],
      "execution_count": 187,
      "outputs": [
        {
          "output_type": "execute_result",
          "data": {
            "text/plain": [
              "<seaborn.axisgrid.FacetGrid at 0x7f4e24784eb8>"
            ]
          },
          "metadata": {
            "tags": []
          },
          "execution_count": 187
        },
        {
          "output_type": "display_data",
          "data": {
            "image/png": "[encoded data removed]",
            "text/plain": [
              "<Figure size 430.5x360 with 1 Axes>"
            ]
          },
          "metadata": {
            "tags": []
          }
        }
      ]
    },
    {
      "cell_type": "markdown",
      "metadata": {
        "id": "FLLMFWVvNmFA",
        "colab_type": "text"
      },
      "source": [
        "There are more than 800 patients who do not smoke and around 200 who smokes. Also in the one who smokes male outnumbers the female."
      ]
    },
    {
      "cell_type": "code",
      "metadata": {
        "id": "2b0V-TBVPEPF",
        "colab_type": "code",
        "outputId": "5dddda14-9aee-46a6-c562-87c0d182f703",
        "colab": {
          "base_uri": "https://localhost:8080/",
          "height": 374
        }
      },
      "source": [
        "f= plt.figure(figsize=(12,5))\n",
        "\n",
        "ax=f.add_subplot(121)\n",
        "sns.distplot(train_set[(train_set.smoker == 'yes')][\"charges\"],color='c',ax=ax)\n",
        "ax.set_title('Distribution of charges for smokers')\n",
        "\n",
        "ax=f.add_subplot(122)\n",
        "sns.distplot(train_set[(train_set.smoker == 'no')]['charges'],color='b', ax=ax)\n",
        "ax.set_title('Distribution of charges for non-smokers')"
      ],
      "execution_count": 188,
      "outputs": [
        {
          "output_type": "execute_result",
          "data": {
            "text/plain": [
              "Text(0.5, 1.0, 'Distribution of charges for non-smokers')"
            ]
          },
          "metadata": {
            "tags": []
          },
          "execution_count": 188
        },
        {
          "output_type": "display_data",
          "data": {
            "image/png": "[encoded data removed]",
            "text/plain": [
              "<Figure size 864x360 with 2 Axes>"
            ]
          },
          "metadata": {
            "tags": []
          }
        }
      ]
    },
    {
      "cell_type": "markdown",
      "metadata": {
        "id": "1UB1cuS6u-cL",
        "colab_type": "text"
      },
      "source": [
        "These plot shows that medical cost of patients who smoke is higher than that of people who do not smoke"
      ]
    },
    {
      "cell_type": "code",
      "metadata": {
        "id": "Fi1g1LBwvpF2",
        "colab_type": "code",
        "outputId": "f37dc0d5-810b-4bca-c175-8b0a9f14d0ee",
        "colab": {
          "base_uri": "https://localhost:8080/",
          "height": 530
        }
      },
      "source": [
        "sns.lmplot(x=\"age\", y=\"charges\", hue=\"smoker\", data=train_set,  height = 7)\n",
        "ax.set_title('Charges distribution for smokers and non-smokers')"
      ],
      "execution_count": 189,
      "outputs": [
        {
          "output_type": "execute_result",
          "data": {
            "text/plain": [
              "Text(0.5, 1, 'Charges distribution for smokers and non-smokers')"
            ]
          },
          "metadata": {
            "tags": []
          },
          "execution_count": 189
        },
        {
          "output_type": "display_data",
          "data": {
            "image/png": "[encoded data removed]",
            "text/plain": [
              "<Figure size 557.25x504 with 1 Axes>"
            ]
          },
          "metadata": {
            "tags": []
          }
        }
      ]
    },
    {
      "cell_type": "markdown",
      "metadata": {
        "id": "QeVodJ02yOhb",
        "colab_type": "text"
      },
      "source": [
        "Let's see if bmi affects the medical cost of patients. BMI over 30 is considered obese."
      ]
    },
    {
      "cell_type": "code",
      "metadata": {
        "id": "BxEOKLeHyl8d",
        "colab_type": "code",
        "outputId": "363bf551-086d-44f7-948d-30e6db242166",
        "colab": {
          "base_uri": "https://localhost:8080/",
          "height": 357
        }
      },
      "source": [
        "plt.figure(figsize=(12,5))\n",
        "plt.title(\"Distribution of charges for patients with BMI greater than 30\")\n",
        "ax = sns.distplot(train_set[(train_set.bmi >= 30)]['charges'], color = 'm')"
      ],
      "execution_count": 190,
      "outputs": [
        {
          "output_type": "display_data",
          "data": {
            "image/png": "[encoded data removed]",
            "text/plain": [
              "<Figure size 864x360 with 1 Axes>"
            ]
          },
          "metadata": {
            "tags": []
          }
        }
      ]
    },
    {
      "cell_type": "code",
      "metadata": {
        "id": "-VAnqf7ey4uV",
        "colab_type": "code",
        "outputId": "08796be9-154c-41fc-8aa1-8252bcebf07b",
        "colab": {
          "base_uri": "https://localhost:8080/",
          "height": 357
        }
      },
      "source": [
        "plt.figure(figsize=(12,5))\n",
        "plt.title(\"Distribution of charges for patients with BMI less than 30\")\n",
        "ax = sns.distplot(train_set[(train_set.bmi < 30)]['charges'], color = 'b')"
      ],
      "execution_count": 191,
      "outputs": [
        {
          "output_type": "display_data",
          "data": {
            "image/png": "[encoded data removed]",
            "text/plain": [
              "<Figure size 864x360 with 1 Axes>"
            ]
          },
          "metadata": {
            "tags": []
          }
        }
      ]
    },
    {
      "cell_type": "markdown",
      "metadata": {
        "id": "cGRVlWbZzDOI",
        "colab_type": "text"
      },
      "source": [
        "Patients with BMI over 30 do spend more than patients with lower BMI."
      ]
    },
    {
      "cell_type": "code",
      "metadata": {
        "colab_type": "code",
        "id": "NtLb5WpbaA8V",
        "outputId": "5a3ca353-d219-4358-ea86-7009de870d11",
        "colab": {
          "base_uri": "https://localhost:8080/",
          "height": 119
        }
      },
      "source": [
        "# set train set, test set aside\n",
        "insurance = train_set.drop(\"charges\", axis=1)\n",
        "insurance_labels = train_set[\"charges\"].copy()\n",
        "insurance_labels.head()"
      ],
      "execution_count": 192,
      "outputs": [
        {
          "output_type": "execute_result",
          "data": {
            "text/plain": [
              "560      9193.83850\n",
              "1285     8534.67180\n",
              "1142    27117.99378\n",
              "969      8596.82780\n",
              "486     12475.35130\n",
              "Name: charges, dtype: float64"
            ]
          },
          "metadata": {
            "tags": []
          },
          "execution_count": 192
        }
      ]
    },
    {
      "cell_type": "markdown",
      "metadata": {
        "id": "NkUuX_QQ7kJz",
        "colab_type": "text"
      },
      "source": [
        "# Preprocessing numerical and text data."
      ]
    },
    {
      "cell_type": "code",
      "metadata": {
        "id": "Ug85fpiD8j4F",
        "colab_type": "code",
        "colab": {}
      },
      "source": [
        "import numpy as np\n",
        "\n",
        "# separate categorial features from numerical features\n",
        "insurance_num = list(insurance.select_dtypes(include=[np.number]))\n",
        "insurance_cat = list(insurance.select_dtypes(include=[np.object]))"
      ],
      "execution_count": 0,
      "outputs": []
    },
    {
      "cell_type": "code",
      "metadata": {
        "id": "mBTTItSP6uJa",
        "colab_type": "code",
        "colab": {}
      },
      "source": [
        "# StandardScaler is used for standardization and OneHotEncoder to transform the categorial attributes\n",
        "# to binary form.\n",
        "from sklearn.preprocessing import StandardScaler\n",
        "from sklearn.preprocessing import OneHotEncoder\n",
        "from sklearn.compose import ColumnTransformer\n",
        "\n",
        "full_pipeline = ColumnTransformer(\n",
        "    [('cat', OneHotEncoder(), insurance_cat),\n",
        "     ('num', StandardScaler(), insurance_num)]\n",
        ")\n",
        "\n",
        "insurance_prepared = full_pipeline.fit_transform(insurance)\n",
        "\n",
        "# save the processed attributes in a list we need it later\n",
        "cat_attribs = []\n",
        "temp = full_pipeline.named_transformers_['cat'].categories_ # names of the transformed features\n",
        "for item in temp:\n",
        "    for cat in item:\n",
        "        cat_attribs.append(cat)\n",
        "\n",
        "num_attribs = full_pipeline.transformers_[1][2]"
      ],
      "execution_count": 0,
      "outputs": []
    },
    {
      "cell_type": "markdown",
      "metadata": {
        "id": "dabui5C7YeL-",
        "colab_type": "text"
      },
      "source": [
        "# Select and train model"
      ]
    },
    {
      "cell_type": "code",
      "metadata": {
        "id": "B6rJ4p1r6NYv",
        "colab_type": "code",
        "colab": {}
      },
      "source": [
        "def display_scores(scores):\n",
        "    print(\"Scores:\", scores)\n",
        "    print(\"Mean:\", scores.mean())\n",
        "    print(\"Standard deviation:\", scores.std())"
      ],
      "execution_count": 0,
      "outputs": []
    },
    {
      "cell_type": "code",
      "metadata": {
        "id": "i31Yf8PlYcpD",
        "colab_type": "code",
        "outputId": "0ef9ea3f-a63d-4f47-b564-fca3abe7b765",
        "colab": {
          "base_uri": "https://localhost:8080/",
          "height": 34
        }
      },
      "source": [
        "# train a linear regression model\n",
        "from sklearn.linear_model import LinearRegression\n",
        "\n",
        "lin_reg = LinearRegression(fit_intercept=True)\n",
        "lin_reg.fit(insurance_prepared, insurance_labels)\n",
        "lin_reg.score(insurance_prepared, insurance_labels)"
      ],
      "execution_count": 196,
      "outputs": [
        {
          "output_type": "execute_result",
          "data": {
            "text/plain": [
              "0.7394252296075601"
            ]
          },
          "metadata": {
            "tags": []
          },
          "execution_count": 196
        }
      ]
    },
    {
      "cell_type": "code",
      "metadata": {
        "id": "Gqu9X_fRZ41W",
        "colab_type": "code",
        "outputId": "056f75ab-a8d4-4233-d5f2-0cdb790758cf",
        "colab": {
          "base_uri": "https://localhost:8080/",
          "height": 34
        }
      },
      "source": [
        "from sklearn.metrics import mean_squared_error, r2_score\n",
        "\n",
        "insurance_predictions = lin_reg.predict(insurance_prepared)\n",
        "lin_mse = mean_squared_error(insurance_labels, insurance_predictions)\n",
        "lin_rmse = np.sqrt(lin_mse)\n",
        "lin_rmse"
      ],
      "execution_count": 197,
      "outputs": [
        {
          "output_type": "execute_result",
          "data": {
            "text/plain": [
              "6132.674815701483"
            ]
          },
          "metadata": {
            "tags": []
          },
          "execution_count": 197
        }
      ]
    },
    {
      "cell_type": "code",
      "metadata": {
        "id": "GwxoPjNCs21b",
        "colab_type": "code",
        "outputId": "1a7b5216-08a5-4659-ac98-136df92d0062",
        "colab": {
          "base_uri": "https://localhost:8080/",
          "height": 68
        }
      },
      "source": [
        "# check cross-validation on linear regression\n",
        "from sklearn.model_selection import cross_val_score\n",
        "\n",
        "lin_scores = cross_val_score(lin_reg, insurance_prepared, insurance_labels,\n",
        "                             scoring=\"neg_mean_squared_error\", cv=5)\n",
        "lin_rmse_scores = np.sqrt(-lin_scores)\n",
        "display_scores(lin_rmse_scores)"
      ],
      "execution_count": 198,
      "outputs": [
        {
          "output_type": "stream",
          "text": [
            "Scores: [6343.01865761 5662.68854609 5988.07811636 6829.18055041 5891.94432448]\n",
            "Mean: 6142.982038991172\n",
            "Standard deviation: 407.0823122016718\n"
          ],
          "name": "stdout"
        }
      ]
    },
    {
      "cell_type": "code",
      "metadata": {
        "id": "Iv_EcvJgqN7w",
        "colab_type": "code",
        "outputId": "796ef35b-a267-4741-eddf-90b702cb02b3",
        "colab": {
          "base_uri": "https://localhost:8080/",
          "height": 119
        }
      },
      "source": [
        "# let's try a decision tree model\n",
        "from sklearn.tree import DecisionTreeRegressor\n",
        "\n",
        "# choose criterion mae because it is less sensitive to outliers than mse.\n",
        "tree_reg = DecisionTreeRegressor(random_state=42, criterion='mae')\n",
        "\n",
        "tree_reg.fit(insurance_prepared, insurance_labels)"
      ],
      "execution_count": 199,
      "outputs": [
        {
          "output_type": "execute_result",
          "data": {
            "text/plain": [
              "DecisionTreeRegressor(ccp_alpha=0.0, criterion='mae', max_depth=None,\n",
              "                      max_features=None, max_leaf_nodes=None,\n",
              "                      min_impurity_decrease=0.0, min_impurity_split=None,\n",
              "                      min_samples_leaf=1, min_samples_split=2,\n",
              "                      min_weight_fraction_leaf=0.0, presort='deprecated',\n",
              "                      random_state=42, splitter='best')"
            ]
          },
          "metadata": {
            "tags": []
          },
          "execution_count": 199
        }
      ]
    },
    {
      "cell_type": "code",
      "metadata": {
        "id": "p4Hov86UqxzN",
        "colab_type": "code",
        "colab": {
          "base_uri": "https://localhost:8080/",
          "height": 34
        },
        "outputId": "46810b64-ce78-4d0c-e8f1-81ab0bd38bb8"
      },
      "source": [
        "# check mean squared error on decision tree\n",
        "insurance_predictions = tree_reg.predict(insurance_prepared)\n",
        "tree_mse = mean_squared_error(insurance_labels, insurance_predictions)\n",
        "tree_rmse = np.sqrt(tree_mse)\n",
        "tree_rmse"
      ],
      "execution_count": 200,
      "outputs": [
        {
          "output_type": "execute_result",
          "data": {
            "text/plain": [
              "494.20598375812835"
            ]
          },
          "metadata": {
            "tags": []
          },
          "execution_count": 200
        }
      ]
    },
    {
      "cell_type": "markdown",
      "metadata": {
        "id": "NpQNoo2xNaCK",
        "colab_type": "text"
      },
      "source": [
        "clearly the decision tree model is better fitting the data than linear regression.but we have to evaluate decision tree model first by cross-validation."
      ]
    },
    {
      "cell_type": "code",
      "metadata": {
        "id": "G6P3TciVrTgw",
        "colab_type": "code",
        "outputId": "f9e8fa9e-91d5-475a-db13-c73e81a5d060",
        "colab": {
          "base_uri": "https://localhost:8080/",
          "height": 68
        }
      },
      "source": [
        "# check cross-validation on decision tree\n",
        "scores = cross_val_score(tree_reg, insurance_prepared, insurance_labels,\n",
        "                         scoring=\"neg_mean_squared_error\", cv=5)\n",
        "tree_rmse_scores = np.sqrt(-scores)\n",
        "\n",
        "display_scores(tree_rmse_scores)"
      ],
      "execution_count": 201,
      "outputs": [
        {
          "output_type": "stream",
          "text": [
            "Scores: [6053.79696242 6005.75981727 6943.94426396 6406.71996614 7087.60420284]\n",
            "Mean: 6499.565042526016\n",
            "Standard deviation: 445.96769758703005\n"
          ],
          "name": "stdout"
        }
      ]
    },
    {
      "cell_type": "markdown",
      "metadata": {
        "id": "9LOmmuu-aeHI",
        "colab_type": "text"
      },
      "source": [
        "Decision tree algorithm was overfitting the data, hence we need to tune the hyperparameters"
      ]
    },
    {
      "cell_type": "markdown",
      "metadata": {
        "id": "eELBL6iiXCDr",
        "colab_type": "text"
      },
      "source": [
        "# Fine tune your model"
      ]
    },
    {
      "cell_type": "code",
      "metadata": {
        "id": "JMSeKTS6XHjR",
        "colab_type": "code",
        "outputId": "b9426b9b-5e88-4402-ad4b-076800cdf575",
        "colab": {
          "base_uri": "https://localhost:8080/",
          "height": 34
        }
      },
      "source": [
        "# try different combinations of hyperparameters\n",
        "from sklearn.model_selection import GridSearchCV\n",
        "\n",
        "params_grid = [\n",
        "              {'max_depth': [4, 5, 6, 7, 8], 'min_samples_split': [15, 20, 25]}\n",
        "               ]\n",
        "\n",
        "tree_reg = DecisionTreeRegressor(random_state=42, criterion='mae')\n",
        "grid_search = GridSearchCV(tree_reg, params_grid, cv=5, scoring='neg_mean_squared_error')\n",
        "grid_search.fit(insurance_prepared, insurance_labels)\n",
        "grid_search.best_params_"
      ],
      "execution_count": 223,
      "outputs": [
        {
          "output_type": "execute_result",
          "data": {
            "text/plain": [
              "{'max_depth': 5, 'min_samples_split': 20}"
            ]
          },
          "metadata": {
            "tags": []
          },
          "execution_count": 223
        }
      ]
    },
    {
      "cell_type": "code",
      "metadata": {
        "id": "vQ9F_VK9Au5g",
        "colab_type": "code",
        "outputId": "38dfcf63-9ea5-41ed-be3a-20deb2b53901",
        "colab": {
          "base_uri": "https://localhost:8080/",
          "height": 272
        }
      },
      "source": [
        "cvres = grid_search.cv_results_\n",
        "for mean_score, params in zip(cvres[\"mean_test_score\"], cvres[\"params\"]):\n",
        "    print(np.sqrt(-mean_score), params)"
      ],
      "execution_count": 224,
      "outputs": [
        {
          "output_type": "stream",
          "text": [
            "4807.416535956126 {'max_depth': 4, 'min_samples_split': 15}\n",
            "4807.416535956126 {'max_depth': 4, 'min_samples_split': 20}\n",
            "4814.689659277122 {'max_depth': 4, 'min_samples_split': 25}\n",
            "4771.144307868897 {'max_depth': 5, 'min_samples_split': 15}\n",
            "4740.1800741694715 {'max_depth': 5, 'min_samples_split': 20}\n",
            "4751.8781872076515 {'max_depth': 5, 'min_samples_split': 25}\n",
            "4909.945516239776 {'max_depth': 6, 'min_samples_split': 15}\n",
            "4748.0202377454025 {'max_depth': 6, 'min_samples_split': 20}\n",
            "4774.41888937549 {'max_depth': 6, 'min_samples_split': 25}\n",
            "5003.681413384168 {'max_depth': 7, 'min_samples_split': 15}\n",
            "4807.704462818648 {'max_depth': 7, 'min_samples_split': 20}\n",
            "4824.4219075895235 {'max_depth': 7, 'min_samples_split': 25}\n",
            "5151.544264267865 {'max_depth': 8, 'min_samples_split': 15}\n",
            "4884.264061221144 {'max_depth': 8, 'min_samples_split': 20}\n",
            "4871.116741224871 {'max_depth': 8, 'min_samples_split': 25}\n"
          ],
          "name": "stdout"
        }
      ]
    },
    {
      "cell_type": "code",
      "metadata": {
        "id": "mU1umOjwWrgr",
        "colab_type": "code",
        "outputId": "b6209dad-a24c-4e24-b488-f00fd6e61ba4",
        "colab": {
          "base_uri": "https://localhost:8080/",
          "height": 204
        }
      },
      "source": [
        "# check feature importance given by algorithm\n",
        "feature_importances = grid_search.best_estimator_.feature_importances_\n",
        "attributes = cat_attribs + num_attribs\n",
        "sorted(zip(feature_importances, attributes), reverse=True)"
      ],
      "execution_count": 204,
      "outputs": [
        {
          "output_type": "execute_result",
          "data": {
            "text/plain": [
              "[(0.7032124468474984, 'no'),\n",
              " (0.178706898839473, 'bmi'),\n",
              " (0.11449197872396331, 'age'),\n",
              " (0.003588675589065236, 'children'),\n",
              " (0.0, 'yes'),\n",
              " (0.0, 'southwest'),\n",
              " (0.0, 'southeast'),\n",
              " (0.0, 'northwest'),\n",
              " (0.0, 'northeast'),\n",
              " (0.0, 'male'),\n",
              " (0.0, 'female')]"
            ]
          },
          "metadata": {
            "tags": []
          },
          "execution_count": 204
        }
      ]
    },
    {
      "cell_type": "markdown",
      "metadata": {
        "id": "gpgzDaVCZqQm",
        "colab_type": "text"
      },
      "source": [
        "Decision tree gave most importance to the smoker feature and no importance to the region, children, gender features"
      ]
    },
    {
      "cell_type": "code",
      "metadata": {
        "id": "8z8xsgOo8dEq",
        "colab_type": "code",
        "colab": {
          "base_uri": "https://localhost:8080/",
          "height": 119
        },
        "outputId": "3539416e-5665-4036-89f4-315b5e3aa5ad"
      },
      "source": [
        "final_model = grid_search.best_estimator_\n",
        "final_model"
      ],
      "execution_count": 209,
      "outputs": [
        {
          "output_type": "execute_result",
          "data": {
            "text/plain": [
              "DecisionTreeRegressor(ccp_alpha=0.0, criterion='mse', max_depth=100,\n",
              "                      max_features=None, max_leaf_nodes=None,\n",
              "                      min_impurity_decrease=0.0, min_impurity_split=None,\n",
              "                      min_samples_leaf=1, min_samples_split=2,\n",
              "                      min_weight_fraction_leaf=0.0, presort='deprecated',\n",
              "                      random_state=42, splitter='best')"
            ]
          },
          "metadata": {
            "tags": []
          },
          "execution_count": 209
        }
      ]
    },
    {
      "cell_type": "code",
      "metadata": {
        "id": "Eg-0MPuekKM-",
        "colab_type": "code",
        "outputId": "59dc166d-5eba-4b23-d4b0-a49dbaa3b6e8",
        "colab": {
          "base_uri": "https://localhost:8080/",
          "height": 34
        }
      },
      "source": [
        "final_model = grid_search.best_estimator_\n",
        "\n",
        "X_test = test_set.drop(\"charges\", axis=1)\n",
        "y_test = test_set[\"charges\"].copy()\n",
        "\n",
        "X_test_prepared = full_pipeline.transform(X_test)\n",
        "final_predictions = final_model.predict(X_test_prepared)\n",
        "\n",
        "final_mse = mean_squared_error(y_test, final_predictions)\n",
        "final_rmse = np.sqrt(final_mse)\n",
        "final_rmse"
      ],
      "execution_count": 225,
      "outputs": [
        {
          "output_type": "execute_result",
          "data": {
            "text/plain": [
              "4664.2369759796875"
            ]
          },
          "metadata": {
            "tags": []
          },
          "execution_count": 225
        }
      ]
    }
  ]
}